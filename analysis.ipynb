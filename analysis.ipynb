{
 "cells": [
  {
   "cell_type": "markdown",
   "id": "f3a79cb7",
   "metadata": {},
   "source": [
    "# Patient Satisfaction Analysis (2024)\n",
    "Generated with LLM assistance (Jules / ChatGPT Codex)"
   ]
  },
  {
   "cell_type": "code",
   "execution_count": null,
   "id": "67d7be14",
   "metadata": {},
   "outputs": [],
   "source": [
    "import pandas as pd\n",
    "import matplotlib.pyplot as plt\n",
    "\n",
    "df = pd.read_csv('data/patient_satisfaction.csv')\n",
    "industry_target = 4.5\n",
    "avg = df['Score'].mean()\n",
    "print(f'Average Satisfaction Score (2024): {avg:.2f}')"
   ]
  },
  {
   "cell_type": "code",
   "execution_count": null,
   "id": "3e603136",
   "metadata": {},
   "outputs": [],
   "source": [
    "# Plot trend vs target\n",
    "plt.figure(figsize=(8,5))\n",
    "plt.plot(df['Quarter'], df['Score'], marker='o', label='Patient Satisfaction')\n",
    "plt.axhline(y=industry_target, linestyle='--', label='Industry Target (4.5)')\n",
    "plt.title('Patient Satisfaction Scores - 2024')\n",
    "plt.xlabel('Quarter')\n",
    "plt.ylabel('Satisfaction Score')\n",
    "plt.ylim(-2,5)\n",
    "plt.legend()\n",
    "plt.grid(True)\n",
    "plt.tight_layout()\n",
    "plt.savefig('patient_satisfaction_trend.png', dpi=150)"
   ]
  },
  {
   "cell_type": "markdown",
   "id": "5d226d56",
   "metadata": {},
   "source": [
    "**Email for verification:** 22f3000033@ds.study.iitm.ac.in"
   ]
  }
 ],
 "metadata": {},
 "nbformat": 4,
 "nbformat_minor": 5
}
